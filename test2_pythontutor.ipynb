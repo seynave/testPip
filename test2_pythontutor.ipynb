{
 "cells": [
  {
   "cell_type": "code",
   "execution_count": null,
   "metadata": {},
   "outputs": [],
   "source": [
    "#!pip install nbtutor\n",
    "#!jupyter nbextension install --overwrite --py nbtutor\n",
    "#!jupyter nbextension enable nbtutor --py\n",
    "%load_ext nbtutor"
   ]
  },
  {
   "cell_type": "code",
   "execution_count": null,
   "metadata": {},
   "outputs": [],
   "source": [
    "%%nbtutor -r -f\n",
    "x=0\n",
    "for i in range(10):\n",
    "    x = x + 2\n",
    "print(x)"
   ]
  },
  {
   "cell_type": "code",
   "execution_count": null,
   "metadata": {},
   "outputs": [],
   "source": [
    "%%nbtutor -r -f\n",
    "liste1 = [1,2,3,4]\n",
    "liste2 = liste1\n",
    "\n",
    "liste1[0]=5\n",
    "print(liste1)\n",
    "print(liste2)\n",
    "\n",
    "tuple1 = (1,2,3,4)\n",
    "tuple2 = tuple1"
   ]
  },
  {
   "cell_type": "code",
   "execution_count": null,
   "metadata": {},
   "outputs": [],
   "source": [
    "%%nbtutor -r -f\n",
    "def f(x):\n",
    "    x = x +1\n",
    "    return x\n",
    "    \n",
    "x = 5\n",
    "x = f(x)\n",
    "print(x)"
   ]
  },
  {
   "cell_type": "code",
   "execution_count": null,
   "metadata": {},
   "outputs": [],
   "source": [
    "class MaClasse :\n",
    "    def __init__(self, valeur):\n",
    "        self.attribut = valeur\n",
    "        \n",
    "obj1 = MaClasse(1)\n",
    "obj2 = MaClasse(1)\n",
    "obj3 = obj1"
   ]
  }
 ],
 "metadata": {
  "celltoolbar": "Visualize",
  "kernelspec": {
   "display_name": "Python 3",
   "language": "python",
   "name": "python3"
  },
  "language_info": {
   "codemirror_mode": {
    "name": "ipython",
    "version": 3
   },
   "file_extension": ".py",
   "mimetype": "text/x-python",
   "name": "python",
   "nbconvert_exporter": "python",
   "pygments_lexer": "ipython3",
   "version": "3.7.2"
  }
 },
 "nbformat": 4,
 "nbformat_minor": 4
}
