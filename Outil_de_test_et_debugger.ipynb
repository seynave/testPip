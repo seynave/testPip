{
 "cells": [
  {
   "cell_type": "markdown",
   "metadata": {},
   "source": [
    "# Exécution du code python en MODE PAS A PAS dans un Notebook Jupyter\n",
    "\n",
    "Ce mode d'emploi a été rédigé afin d'être utilisé avec **Binder**, c'est-à-dire **sans aucune installation réelle sur votre machine**. Tout se déroule en fait sur un serveur distant... \n",
    "\n",
    "**D'AUTRES OUTILS D'AIDE A LA COMPREHENSION ET DE DEBUGGER SONT DISPONIBLES :**\n",
    "* **LE DEBUGGER DE THONNY**\n",
    "* [**PYTHONTUTOR**](http://www.pythontutor.com/live.html#mode=edit)"
   ]
  },
  {
   "cell_type": "markdown",
   "metadata": {},
   "source": [
    "1. **Décommenter** la cellule de code ci-dessous puis **exécutez-la** afin d'installer le module nécessaire"
   ]
  },
  {
   "cell_type": "code",
   "execution_count": null,
   "metadata": {},
   "outputs": [],
   "source": [
    "#conda install -c conda-forge nbtutor -y"
   ]
  },
  {
   "cell_type": "markdown",
   "metadata": {},
   "source": [
    "*Remarque :* L'installation écrit beaucoup d'informations en sortie de la cellule. Si vous le souhaitez, vous pouvez \"nettoyer\" le notebook en effaçant la sortie de la cellue ci-dessus en allant dans le menu Cell-->Current Output-->Clear\n",
    "\n",
    "2. **Exécutez** la cellule ci dessous"
   ]
  },
  {
   "cell_type": "code",
   "execution_count": 1,
   "metadata": {},
   "outputs": [],
   "source": [
    "%reload_ext nbtutor"
   ]
  },
  {
   "cell_type": "code",
   "execution_count": 3,
   "metadata": {
    "slideshow": {
     "slide_type": "fragment"
    }
   },
   "outputs": [
    {
     "name": "nbtutor",
     "output_type": "stream",
     "text": []
    }
   ],
   "source": [
    "%%nbtutor -r -f \n",
    "\n",
    "#Copier ici le code Python à tester\n"
   ]
  },
  {
   "cell_type": "markdown",
   "metadata": {},
   "source": [
    "## Comment l'utiliser ?\n",
    "\n",
    "En lançant l'exécution de la cellule contenant le code à exécuter, des boutons vont apparaître permettant d'exécuter le code pas à pas, de revenir en arrière (etc...) tout en visualisant l'état de la mémoire de la machine... \n",
    "\n",
    "Dans le **menu déroulant**, sélectionner :\n",
    "* *memory*  : pour voir l'état de la mémoire de l'ordinateur au fur et à mesure de l'exécution du code\n",
    "* *timeline* : pour voir les valeurs des différentes variables au fur et à mesure de l'exécution du code\n",
    "\n",
    "[plus d'informations](https://pypi.org/project/nbtutor/)"
   ]
  }
 ],
 "metadata": {
  "celltoolbar": "Visualize",
  "kernelspec": {
   "display_name": "Python 3",
   "language": "python",
   "name": "python3"
  },
  "language_info": {
   "codemirror_mode": {
    "name": "ipython",
    "version": 3
   },
   "file_extension": ".py",
   "mimetype": "text/x-python",
   "name": "python",
   "nbconvert_exporter": "python",
   "pygments_lexer": "ipython3",
   "version": "3.7.2"
  }
 },
 "nbformat": 4,
 "nbformat_minor": 4
}
